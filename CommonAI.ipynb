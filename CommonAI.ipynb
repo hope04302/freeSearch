{
  "nbformat": 4,
  "nbformat_minor": 0,
  "metadata": {
    "colab": {
      "provenance": [],
      "toc_visible": true,
      "authorship_tag": "ABX9TyNuqDf98JhngEMsIBJwZswH",
      "include_colab_link": true
    },
    "kernelspec": {
      "name": "python3",
      "display_name": "Python 3"
    },
    "language_info": {
      "name": "python"
    }
  },
  "cells": [
    {
      "cell_type": "markdown",
      "metadata": {
        "id": "view-in-github",
        "colab_type": "text"
      },
      "source": [
        "<a href=\"https://colab.research.google.com/github/hope04302/freeSearch/blob/main/CommonAI.ipynb\" target=\"_parent\"><img src=\"https://colab.research.google.com/assets/colab-badge.svg\" alt=\"Open In Colab\"/></a>"
      ]
    },
    {
      "cell_type": "markdown",
      "source": [
        "# 감정 분석 AI\n",
        "책 참고하여 AI 제작\n",
        "> 시작하세요! 텐서플로 2.0 프로그래밍 - 김환희 지음\n",
        "- https://github.com/wikibook/tf2"
      ],
      "metadata": {
        "id": "c2etbvjLn3Ce"
      }
    },
    {
      "cell_type": "markdown",
      "source": [
        "# 실험 1\n",
        "\n",
        "5월 8일\n",
        "\n",
        "여러 가지 테스트를 했지만 기록이 안 남아있어서...\n",
        "\n",
        "현재 남아있는 마지막 테스트를 1로 정함\n",
        "\n",
        "- 음절 단위로 토큰화, 가-힣ㄱ-ㅎㅏ-ㅣ0-9()?!* 제외하고는 `<unk>`로 처리\n",
        "- 140자를 기준으로 뒤에 패딩(왜냐하면, 최대 길이가 140자에 근접)\n",
        "- 모델은 아래와 같음\n",
        "\n",
        "```\n",
        "model = tf.keras.Sequential([\n",
        "    tf.keras.layers.Embedding(2500, 300, input_length=140),\n",
        "    tf.keras.layers.LSTM(units=50),\n",
        "    tf.keras.layers.Dropout(rate=0.3),\n",
        "    tf.keras.layers.Dense(2, activation='softmax')\n",
        "])\n",
        "\n",
        "model.compile(optimizer='adam', loss='binary_crossentropy', metrics=['accuracy'])\n",
        "\n",
        "history = model.fit(train_x, train_y, epochs=50, batch_size=64, validation_split=0.2,\n",
        "                    callbacks=[tf.keras.callbacks.EarlyStopping(patience=10, restore_best_weights=True)])\n",
        "\n",
        "```\n",
        "\n",
        "> 결과:\n",
        ">\n",
        "> 90%를 넘어가지 못함.(잘해도 85퍼 조금 넘음)\n",
        ">\n",
        "> [클린봇](https://d2.naver.com/helloworld/7753273)의 성적을 넘어서지 못함\n",
        "\n",
        "> 이견:\n",
        ">\n",
        "> 라벨링이 더 잘된 데이터셋(조금 더 세분화해서 라벨링한 데이터)이 필요\n"
      ],
      "metadata": {
        "id": "k3I6729hMc9U"
      }
    },
    {
      "cell_type": "code",
      "source": [
        "import tensorflow as tf\n",
        "import numpy as np\n",
        "import matplotlib.pyplot as plt\n",
        "import pandas as pd\n",
        "import seaborn as sns\n",
        "import math\n",
        "import random as rd"
      ],
      "metadata": {
        "id": "0xTnSD1XsJ93"
      },
      "execution_count": null,
      "outputs": []
    },
    {
      "cell_type": "code",
      "source": [
        "path_to_train_file = tf.keras.utils.get_file('train.txt', 'https://raw.githubusercontent.com/e9t/nsmc/master/ratings_train.txt')\n",
        "path_to_test_file = tf.keras.utils.get_file('test.txt', 'https://raw.githubusercontent.com/e9t/nsmc/master/ratings_test.txt')\n",
        "\n",
        "train_text = open(path_to_train_file, 'rb').read().decode(encoding='utf-8')\n",
        "test_text = open(path_to_test_file, 'rb').read().decode(encoding='utf-8')\n",
        "\n",
        "train_y = np.array([[0, 1] if int(row.split('\\t')[2]) else [1, 0] for row in train_text.split('\\n')[1:] if row.count('\\t') > 0])\n",
        "test_y = np.array([[0, 1] if int(row.split('\\t')[2]) else [1, 0] for row in test_text.split('\\n')[1:] if row.count('\\t') > 0])\n",
        "\n",
        "print(len(train_y), len(test_y))"
      ],
      "metadata": {
        "colab": {
          "base_uri": "https://localhost:8080/"
        },
        "id": "4ChILMeMn-ob",
        "outputId": "3c32bb5a-b765-47e3-82b1-14aa5befbaef"
      },
      "execution_count": null,
      "outputs": [
        {
          "output_type": "stream",
          "name": "stdout",
          "text": [
            "Downloading data from https://raw.githubusercontent.com/e9t/nsmc/master/ratings_train.txt\n",
            "14628807/14628807 [==============================] - 0s 0us/step\n",
            "Downloading data from https://raw.githubusercontent.com/e9t/nsmc/master/ratings_test.txt\n",
            "4893335/4893335 [==============================] - 0s 0us/step\n",
            "150000 50000\n"
          ]
        }
      ]
    },
    {
      "cell_type": "code",
      "source": [
        "# ==============================\n",
        "import re\n",
        "# From https://github.com/yoonkim/CNN_sentence/blob/master/process_data.py\n",
        "def clean_str(string):    \n",
        "    string = re.sub(r\"\"\"[^가-힣ㄱ-ㅎㅏ-ㅣ0-9()?!*]\"\"\", \"\", string)\n",
        "    return string.lower()\n",
        "\n",
        "train_text_x = [row.split('\\t')[1] for row in train_text.split('\\n')[1:] if row.count('\\t') > 0]\n",
        "train_text_x = [clean_str(sentence) for sentence in train_text_x]\n",
        "train_sentences = [list(sentence) for sentence in train_text_x]\n",
        "\n",
        "test_text_x = [row.split('\\t')[1] for row in test_text.split('\\n')[1:] if row.count('\\t') > 0]\n",
        "test_text_x = [clean_str(sentence) for sentence in test_text_x]\n",
        "test_sentences = [list(sentence) for sentence in test_text_x]\n",
        "\n",
        "# ===========================\n",
        "from tensorflow.keras.preprocessing.text import Tokenizer\n",
        "from tensorflow.keras.preprocessing.sequence import pad_sequences\n",
        "\n",
        "tokenizer = Tokenizer(num_words=2500)\n",
        "tokenizer.fit_on_texts(train_sentences)\n",
        "\n",
        "train_x = tokenizer.texts_to_sequences(train_sentences)\n",
        "train_x = pad_sequences(train_x, padding='post', maxlen=140)  # padding='pre': 앞에 패딩 추가\n",
        "test_x = tokenizer.texts_to_sequences(test_sentences)\n",
        "test_x = pad_sequences(test_x, padding='post', maxlen=140)  # padding='pre': 앞에 패딩 추가\n",
        "\n",
        "print(train_x[:5])\n",
        "print(train_y[:5])"
      ],
      "metadata": {
        "colab": {
          "base_uri": "https://localhost:8080/"
        },
        "id": "R668SWNdoIit",
        "outputId": "1d54b4e4-0c8b-45ce-f823-b448dbaf308f"
      },
      "execution_count": null,
      "outputs": [
        {
          "output_type": "stream",
          "name": "stdout",
          "text": [
            "[[  11   90  505   51   80   80  307   13   49   29  315  100   22    0\n",
            "     0    0    0    0    0    0    0    0    0    0    0    0    0    0\n",
            "     0    0    0    0    0    0    0    0    0    0    0    0    0    0\n",
            "     0    0    0    0    0    0    0    0    0    0    0    0    0    0\n",
            "     0    0    0    0    0    0    0    0    0    0    0    0    0    0\n",
            "     0    0    0    0    0    0    0    0    0    0    0    0    0    0\n",
            "     0    0    0    0    0    0    0    0    0    0    0    0    0    0\n",
            "     0    0    0    0    0    0    0    0    0    0    0    0    0    0\n",
            "     0    0    0    0    0    0    0    0    0    0    0    0    0    0\n",
            "     0    0    0    0    0    0    0    0    0    0    0    0    0    0]\n",
            " [ 668  196   36  138   16    4  264  366    7    6  213   71  181   58\n",
            "    14  148  240    8  754    5  113   95   13    0    0    0    0    0\n",
            "     0    0    0    0    0    0    0    0    0    0    0    0    0    0\n",
            "     0    0    0    0    0    0    0    0    0    0    0    0    0    0\n",
            "     0    0    0    0    0    0    0    0    0    0    0    0    0    0\n",
            "     0    0    0    0    0    0    0    0    0    0    0    0    0    0\n",
            "     0    0    0    0    0    0    0    0    0    0    0    0    0    0\n",
            "     0    0    0    0    0    0    0    0    0    0    0    0    0    0\n",
            "     0    0    0    0    0    0    0    0    0    0    0    0    0    0\n",
            "     0    0    0    0    0    0    0    0    0    0    0    0    0    0]\n",
            " [  68   37   33 1512   72    2   34  134   28   16    3   82   25  202\n",
            "   272   15    2    0    0    0    0    0    0    0    0    0    0    0\n",
            "     0    0    0    0    0    0    0    0    0    0    0    0    0    0\n",
            "     0    0    0    0    0    0    0    0    0    0    0    0    0    0\n",
            "     0    0    0    0    0    0    0    0    0    0    0    0    0    0\n",
            "     0    0    0    0    0    0    0    0    0    0    0    0    0    0\n",
            "     0    0    0    0    0    0    0    0    0    0    0    0    0    0\n",
            "     0    0    0    0    0    0    0    0    0    0    0    0    0    0\n",
            "     0    0    0    0    0    0    0    0    0    0    0    0    0    0\n",
            "     0    0    0    0    0    0    0    0    0    0    0    0    0    0]\n",
            " [ 263   10  100    1   79   14   95  474  384  233  116   33   40    3\n",
            "    38    2   96   50  148   41    0    0    0    0    0    0    0    0\n",
            "     0    0    0    0    0    0    0    0    0    0    0    0    0    0\n",
            "     0    0    0    0    0    0    0    0    0    0    0    0    0    0\n",
            "     0    0    0    0    0    0    0    0    0    0    0    0    0    0\n",
            "     0    0    0    0    0    0    0    0    0    0    0    0    0    0\n",
            "     0    0    0    0    0    0    0    0    0    0    0    0    0    0\n",
            "     0    0    0    0    0    0    0    0    0    0    0    0    0    0\n",
            "     0    0    0    0    0    0    0    0    0    0    0    0    0    0\n",
            "     0    0    0    0    0    0    0    0    0    0    0    0    0    0]\n",
            " [  48    1  786  558   34   18  648  211   36  102   58   14    8  526\n",
            "    16  195  119    7    6   27   36  278    1   90  335   12   28  784\n",
            "    17   16    1   14   19   91  119  466   36  700  119   36  188    8\n",
            "    68   37   13   10    1  687   16  195    2    0    0    0    0    0\n",
            "     0    0    0    0    0    0    0    0    0    0    0    0    0    0\n",
            "     0    0    0    0    0    0    0    0    0    0    0    0    0    0\n",
            "     0    0    0    0    0    0    0    0    0    0    0    0    0    0\n",
            "     0    0    0    0    0    0    0    0    0    0    0    0    0    0\n",
            "     0    0    0    0    0    0    0    0    0    0    0    0    0    0\n",
            "     0    0    0    0    0    0    0    0    0    0    0    0    0    0]]\n",
            "[[1 0]\n",
            " [0 1]\n",
            " [1 0]\n",
            " [1 0]\n",
            " [0 1]]\n"
          ]
        }
      ]
    },
    {
      "cell_type": "code",
      "source": [
        "# ==================================\n",
        "model = tf.keras.Sequential([\n",
        "    # 길이 300의 임베딩 벡터로\n",
        "    tf.keras.layers.Embedding(2500, 300, input_length=140),\n",
        "    tf.keras.layers.LSTM(units=50),\n",
        "    tf.keras.layers.Dropout(rate=0.3),\n",
        "    tf.keras.layers.Dense(2, activation='softmax')\n",
        "])\n",
        "\n",
        "model.compile(optimizer='adam', loss='binary_crossentropy', metrics=['accuracy'])\n",
        "\n",
        "history = model.fit(train_x, train_y, epochs=50, batch_size=64, validation_split=0.2,\n",
        "                    callbacks=[tf.keras.callbacks.EarlyStopping(patience=10, restore_best_weights=True)])\n",
        "\n",
        "# ================================\n",
        "plt.figure(figsize=(12, 4))\n",
        "\n",
        "plt.subplot(1, 2, 1)\n",
        "plt.plot(history.history['loss'], 'b-', label='loss')\n",
        "plt.plot(history.history['val_loss'], 'r--', label='val_loss')\n",
        "plt.xlabel('Epoch')\n",
        "plt.legend()\n",
        "\n",
        "plt.subplot(1, 2, 2)\n",
        "plt.plot(history.history['accuracy'], 'g-', label='accuracy')\n",
        "plt.plot(history.history['val_accuracy'], 'k--', label='val_accuracy')\n",
        "plt.xlabel('Epoch')\n",
        "# plt.ylim(0.7, 1)\n",
        "plt.legend()\n",
        "\n",
        "plt.show()"
      ],
      "metadata": {
        "colab": {
          "base_uri": "https://localhost:8080/",
          "height": 1000
        },
        "id": "KOumBpA7ozoM",
        "outputId": "40d4437f-198d-4060-8384-e40bf0f1d81b"
      },
      "execution_count": null,
      "outputs": [
        {
          "output_type": "stream",
          "name": "stdout",
          "text": [
            "Epoch 1/50\n",
            "1875/1875 [==============================] - 56s 26ms/step - loss: 0.6935 - accuracy: 0.4985 - val_loss: 0.6932 - val_accuracy: 0.4973\n",
            "Epoch 2/50\n",
            "1875/1875 [==============================] - 22s 12ms/step - loss: 0.6932 - accuracy: 0.5026 - val_loss: 0.6931 - val_accuracy: 0.5027\n",
            "Epoch 3/50\n",
            "1875/1875 [==============================] - 20s 11ms/step - loss: 0.6932 - accuracy: 0.5032 - val_loss: 0.6932 - val_accuracy: 0.4973\n",
            "Epoch 4/50\n",
            "1875/1875 [==============================] - 19s 10ms/step - loss: 0.6932 - accuracy: 0.4998 - val_loss: 0.6932 - val_accuracy: 0.4973\n",
            "Epoch 5/50\n",
            "1875/1875 [==============================] - 17s 9ms/step - loss: 0.6932 - accuracy: 0.5016 - val_loss: 0.6933 - val_accuracy: 0.5027\n",
            "Epoch 6/50\n",
            "1875/1875 [==============================] - 17s 9ms/step - loss: 0.6932 - accuracy: 0.5002 - val_loss: 0.6933 - val_accuracy: 0.4974\n",
            "Epoch 7/50\n",
            "1875/1875 [==============================] - 18s 10ms/step - loss: 0.6932 - accuracy: 0.4990 - val_loss: 0.6931 - val_accuracy: 0.5027\n",
            "Epoch 8/50\n",
            "1875/1875 [==============================] - 18s 10ms/step - loss: 0.6931 - accuracy: 0.4987 - val_loss: 0.6931 - val_accuracy: 0.5027\n",
            "Epoch 9/50\n",
            "1875/1875 [==============================] - 18s 10ms/step - loss: 0.6931 - accuracy: 0.4997 - val_loss: 0.6931 - val_accuracy: 0.4974\n",
            "Epoch 10/50\n",
            "1875/1875 [==============================] - 19s 10ms/step - loss: 0.6931 - accuracy: 0.4976 - val_loss: 0.6931 - val_accuracy: 0.5027\n",
            "Epoch 11/50\n",
            "1875/1875 [==============================] - 17s 9ms/step - loss: 0.6931 - accuracy: 0.4993 - val_loss: 0.6931 - val_accuracy: 0.5027\n",
            "Epoch 12/50\n",
            "1875/1875 [==============================] - 17s 9ms/step - loss: 0.6930 - accuracy: 0.5033 - val_loss: 0.6932 - val_accuracy: 0.4979\n",
            "Epoch 13/50\n",
            "1875/1875 [==============================] - 17s 9ms/step - loss: 0.5262 - accuracy: 0.7239 - val_loss: 0.4221 - val_accuracy: 0.8041\n",
            "Epoch 14/50\n",
            "1875/1875 [==============================] - 18s 10ms/step - loss: 0.4020 - accuracy: 0.8182 - val_loss: 0.3908 - val_accuracy: 0.8202\n",
            "Epoch 15/50\n",
            "1875/1875 [==============================] - 17s 9ms/step - loss: 0.3690 - accuracy: 0.8348 - val_loss: 0.3746 - val_accuracy: 0.8290\n",
            "Epoch 16/50\n",
            "1875/1875 [==============================] - 17s 9ms/step - loss: 0.3452 - accuracy: 0.8475 - val_loss: 0.3673 - val_accuracy: 0.8344\n",
            "Epoch 17/50\n",
            "1875/1875 [==============================] - 18s 10ms/step - loss: 0.3252 - accuracy: 0.8572 - val_loss: 0.3622 - val_accuracy: 0.8388\n",
            "Epoch 18/50\n",
            "1875/1875 [==============================] - 18s 10ms/step - loss: 0.3090 - accuracy: 0.8659 - val_loss: 0.3608 - val_accuracy: 0.8404\n",
            "Epoch 19/50\n",
            "1875/1875 [==============================] - 18s 10ms/step - loss: 0.2926 - accuracy: 0.8743 - val_loss: 0.3671 - val_accuracy: 0.8418\n",
            "Epoch 20/50\n",
            "1875/1875 [==============================] - 18s 9ms/step - loss: 0.2778 - accuracy: 0.8820 - val_loss: 0.3730 - val_accuracy: 0.8423\n",
            "Epoch 21/50\n",
            "1875/1875 [==============================] - 19s 10ms/step - loss: 0.2640 - accuracy: 0.8886 - val_loss: 0.3682 - val_accuracy: 0.8446\n",
            "Epoch 22/50\n",
            "1875/1875 [==============================] - 17s 9ms/step - loss: 0.2506 - accuracy: 0.8943 - val_loss: 0.3725 - val_accuracy: 0.8442\n",
            "Epoch 23/50\n",
            "1875/1875 [==============================] - 18s 10ms/step - loss: 0.2390 - accuracy: 0.9007 - val_loss: 0.4013 - val_accuracy: 0.8410\n",
            "Epoch 24/50\n",
            "1875/1875 [==============================] - 18s 9ms/step - loss: 0.2248 - accuracy: 0.9076 - val_loss: 0.3917 - val_accuracy: 0.8433\n",
            "Epoch 25/50\n",
            "1875/1875 [==============================] - 18s 10ms/step - loss: 0.2150 - accuracy: 0.9126 - val_loss: 0.4159 - val_accuracy: 0.8432\n",
            "Epoch 26/50\n",
            "1875/1875 [==============================] - 18s 10ms/step - loss: 0.2043 - accuracy: 0.9178 - val_loss: 0.4030 - val_accuracy: 0.8397\n",
            "Epoch 27/50\n",
            "1875/1875 [==============================] - 18s 10ms/step - loss: 0.1950 - accuracy: 0.9215 - val_loss: 0.4329 - val_accuracy: 0.8406\n",
            "Epoch 28/50\n",
            "1875/1875 [==============================] - 18s 10ms/step - loss: 0.1869 - accuracy: 0.9257 - val_loss: 0.4185 - val_accuracy: 0.8412\n"
          ]
        },
        {
          "output_type": "display_data",
          "data": {
            "text/plain": [
              "<Figure size 1200x400 with 2 Axes>"
            ],
            "image/png": "[encoded data removed]"
          },
          "metadata": {}
        }
      ]
    },
    {
      "cell_type": "code",
      "source": [
        "for i in range(20):\n",
        "    print(test_text_x[i], test_y[i])\n",
        "    print(model.predict(test_x[i:i + 1], verbose=0)[0])"
      ],
      "metadata": {
        "colab": {
          "base_uri": "https://localhost:8080/"
        },
        "id": "Qi6LlQZLprKh",
        "outputId": "b4fac2d7-3d92-4967-deea-dd97b2834e2a"
      },
      "execution_count": null,
      "outputs": [
        {
          "output_type": "stream",
          "name": "stdout",
          "text": [
            "굳ㅋ [0 1]\n",
            "[7.7514065e-04 9.9922490e-01]\n",
            " [1 0]\n",
            "[0.4220208 0.5779792]\n",
            "뭐야이평점들은나쁘진않지만10점짜리는더더욱아니잖아 [1 0]\n",
            "[0.725873 0.274127]\n",
            "지루하지는않은데완전막장임돈주고보기에는 [1 0]\n",
            "[9.9969923e-01 3.0075340e-04]\n",
            "3만아니었어도별다섯개줬을텐데왜3로나와서제심기를불편하게하죠?? [1 0]\n",
            "[0.9289815  0.07101853]\n",
            "음악이주가된최고의음악영화 [0 1]\n",
            "[0.00422776 0.9957722 ]\n",
            "진정한쓰레기 [1 0]\n",
            "[0.9950368  0.00496318]\n",
            "마치미국애니에서튀어나온듯한창의력없는로봇디자인부터가고개를젖게한다 [1 0]\n",
            "[0.9942141  0.00578592]\n",
            "갈수록개판되가는중국영화유치하고내용없음폼잡다끝남말도안되는무기에유치한남무아그립다동사서독같은영화가이건3류아류작이다 [1 0]\n",
            "[9.9987662e-01 1.2341778e-04]\n",
            "이별의아픔뒤에찾아오는새로운인연의기쁨모든사람이그렇지는않네 [0 1]\n",
            "[0.28877094 0.711229  ]\n",
            "괜찮네요오랜만포켓몬스터잼밌어요 [0 1]\n",
            "[1.2270584e-04 9.9987733e-01]\n",
            "한국독립영화의한계그렇게아버지가된다와비교됨 [1 0]\n",
            "[0.56261176 0.4373882 ]\n",
            "청춘은아름답다그아름다움은이성을흔들어놓는다찰나의아름다움을잘포착한섬세하고아름다운수채화같은퀴어영화이다 [0 1]\n",
            "[0.09688645 0.90311354]\n",
            "눈에보이는반전이었지만영화의흡인력은사라지지않았다 [0 1]\n",
            "[0.495155   0.50484496]\n",
            "스토리연출연기비주얼등영화의기본조차안된영화에무슨평을해이런영화찍고도김문옥감독은내가영화경력이몇인데조무래기들이내영화를평론해?같은마인드에빠져있겠지? [1 0]\n",
            "[0.9878913  0.01210874]\n",
            "소위ㅈ문가라는평점은뭐냐? [0 1]\n",
            "[0.8078405  0.19215949]\n",
            "최고!!!!!!!!!!!!!!!! [0 1]\n",
            "[1.7030330e-04 9.9982965e-01]\n",
            "발연기도저히못보겠다진짜이렇게연기를못할거라곤상상도못했네 [1 0]\n",
            "[9.9988735e-01 1.1264829e-04]\n",
            "나이스 [0 1]\n",
            "[0.3642474 0.6357526]\n",
            "별재미도없는거우려먹어챔프에서방송몇번했더라?ㅋㅋㅋㅋㅋㅋㅋㅋㅋㅋㅋ [1 0]\n",
            "[0.9802254  0.01977462]\n"
          ]
        }
      ]
    },
    {
      "cell_type": "code",
      "source": [
        "SENT = '''사람들이 쓰레기를 쓰레기통에 버렸다'''\n",
        "\n",
        "# 가공\n",
        "SENT = clean_str(SENT)\n",
        "lst_one = [SENT[:i + 1] for i in range(len(SENT))]\n",
        "lst = [list(SENT[:i + 1]) for i in range(len(SENT))]\n",
        "lst = tokenizer.texts_to_sequences(lst)\n",
        "lst = pad_sequences(lst, padding='post', maxlen=140)  # padding='pre': 앞에 패딩 추가\n",
        "\n",
        "for i, j in zip(lst, lst_one):\n",
        "    print(j, model.predict(np.array([i]), verbose=0)[0][1])"
      ],
      "metadata": {
        "colab": {
          "base_uri": "https://localhost:8080/"
        },
        "id": "h7qfpmzvvCRn",
        "outputId": "9d39653b-7be1-4b1e-82e6-0682619799c4"
      },
      "execution_count": null,
      "outputs": [
        {
          "output_type": "stream",
          "name": "stdout",
          "text": [
            "사 0.5822158\n",
            "사람 0.64492875\n",
            "사람들 0.7922854\n",
            "사람들이 0.893181\n",
            "사람들이쓰 0.21998772\n",
            "사람들이쓰레 0.032976378\n",
            "사람들이쓰레기 0.013215397\n",
            "사람들이쓰레기를 0.011502097\n",
            "사람들이쓰레기를쓰 0.023462975\n",
            "사람들이쓰레기를쓰레 0.007548652\n",
            "사람들이쓰레기를쓰레기 0.0058804913\n",
            "사람들이쓰레기를쓰레기통 0.0056397365\n",
            "사람들이쓰레기를쓰레기통에 0.0077440785\n",
            "사람들이쓰레기를쓰레기통에버 0.032295212\n",
            "사람들이쓰레기를쓰레기통에버렸 0.0071959537\n",
            "사람들이쓰레기를쓰레기통에버렸다 0.0072855246\n"
          ]
        }
      ]
    }
  ]
}