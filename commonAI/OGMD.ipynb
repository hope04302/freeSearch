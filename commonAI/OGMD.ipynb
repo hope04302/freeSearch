{
  "nbformat": 4,
  "nbformat_minor": 0,
  "metadata": {
    "colab": {
      "provenance": [],
      "authorship_tag": "ABX9TyPwD53tWhs/cVHNGnaee0Fq",
      "include_colab_link": true
    },
    "kernelspec": {
      "name": "python3",
      "display_name": "Python 3"
    },
    "language_info": {
      "name": "python"
    }
  },
  "cells": [
    {
      "cell_type": "markdown",
      "metadata": {
        "id": "view-in-github",
        "colab_type": "text"
      },
      "source": [
        "<a href=\"https://colab.research.google.com/github/hope04302/freeSearch/blob/main/commonAI/OGMD.ipynb\" target=\"_parent\"><img src=\"https://colab.research.google.com/assets/colab-badge.svg\" alt=\"Open In Colab\"/></a>"
      ]
    },
    {
      "cell_type": "markdown",
      "source": [
        "# 데이터셋\n",
        "[나름 좋은 데이터셋](https://aihub.or.kr/aihubdata/data/view.do?currMenu=115&topMenu=100&aihubDataSe=realm&dataSetSn=625)"
      ],
      "metadata": {
        "id": "GgIkiFfUUy9e"
      }
    },
    {
      "cell_type": "markdown",
      "source": [
        "https://wikidocs.net/book/2155"
      ],
      "metadata": {
        "id": "NyKcm2yVBt8a"
      }
    },
    {
      "cell_type": "code",
      "execution_count": null,
      "metadata": {
        "id": "tC0S3hIpUx1I"
      },
      "outputs": [],
      "source": []
    }
  ]
}